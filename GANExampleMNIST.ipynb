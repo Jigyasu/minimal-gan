{
 "cells": [
  {
   "cell_type": "markdown",
   "metadata": {},
   "source": [
    "# Step 0: Introduction\n",
    "#### The notebook presents a simple bare-minimum example of Deep Convolutional Generative Adverserial Network (or DCGAN). \n",
    "\n",
    "Note: The focus is on readability rather than functionality. None of the design choices: network, parameters, or training approach may be optimal. Making this work on larger datasets or more complicated images may require some tweaks. \n",
    "\n",
    "## Goal\n",
    "We want to learn an image generator network _G_. It takes a vector of random numbers and spits out an image. In this specific example, we want to generate simple (28x28 pixel) images of handwritten digits.\n",
    "\n",
    "<img src=\"./imgs/generator.svg\" width=\"475\">\n",
    "\n",
    "## Why GAN?\n",
    "The GAN framework allows us to learn the network G using another network which can distinguish between a real/fake image, called a disciminator network D. They work as adversaries to train each other. Hence, the name Generative Adversearial Networks.\n",
    "\n",
    "<img src=\"./imgs/discriminator.svg\" width=\"400\">\n",
    "\n",
    "## Training \n",
    "Training a GAN is different from a vanilla deep network. In each training iteration there are two steps. Step 1 updates the parameters of D using the real images and the images generated from G. And, step 2 updates the parameters of G using the feedback from the output of D. This will become more concrete using the e\n",
    "<img src=\"./imgs/LearningGAN.svg\" width=\"800\">\n"
   ]
  },
  {
   "cell_type": "code",
   "execution_count": 26,
   "metadata": {},
   "outputs": [],
   "source": [
    "import torch\n",
    "import torch.nn.functional as F\n",
    "from torch import nn\n",
    "from torchvision import datasets\n",
    "from torchvision import transforms\n",
    "from PIL import Image\n",
    "import sys"
   ]
  },
  {
   "cell_type": "markdown",
   "metadata": {},
   "source": [
    "# Step 1: Load the data"
   ]
  },
  {
   "cell_type": "code",
   "execution_count": 27,
   "metadata": {},
   "outputs": [
    {
     "name": "stdout",
     "output_type": "stream",
     "text": [
      "Dataset MNIST\n",
      "    Number of datapoints: 60000\n",
      "    Split: train\n",
      "    Root Location: ./data\n",
      "    Transforms (if any): ToTensor()\n",
      "    Target Transforms (if any): None\n"
     ]
    }
   ],
   "source": [
    "mnist_trainset = datasets.MNIST(root='./data', train=True, download=True, transform=transforms.ToTensor())\n",
    "print(mnist_trainset)"
   ]
  },
  {
   "cell_type": "code",
   "execution_count": 46,
   "metadata": {},
   "outputs": [
    {
     "name": "stdout",
     "output_type": "stream",
     "text": [
      "Samples from MNIST dataset.\n",
      "Image size: 28x28\n"
     ]
    },
    {
     "data": {
      "image/png": "[encoded data removed]",
      "text/plain": [
       "<Figure size 1440x144 with 10 Axes>"
      ]
     },
     "metadata": {
      "needs_background": "light"
     },
     "output_type": "display_data"
    }
   ],
   "source": [
    "data_loader = torch.utils.data.DataLoader(mnist_trainset, batch_size = 10, shuffle= True)\n",
    "\n",
    "# Get a sample batch.\n",
    "it = iter(data_loader)\n",
    "images, _ = it.next()\n",
    "\n",
    "# Get an example batch.\n",
    "disp_img = images.squeeze().numpy()\n",
    "import numpy as np\n",
    "from matplotlib import pyplot as plt\n",
    "fig = plt.figure(figsize=(20, 2))  \n",
    "\n",
    "# Display.\n",
    "print(\"Samples from MNIST dataset.\")\n",
    "print(\"Image size: {}x{}\".format(disp_img.shape[1], disp_img.shape[2]))\n",
    "for ii in range(disp_img.shape[0]):\n",
    "    fig.add_subplot(1, 10, ii+1)\n",
    "    plt.axis('off')\n",
    "    plt.imshow(np.squeeze(disp_img[ii, :, :]), cmap='gray')\n"
   ]
  },
  {
   "cell_type": "markdown",
   "metadata": {},
   "source": [
    "# Step 2: Define a Generator (G)"
   ]
  },
  {
   "cell_type": "markdown",
   "metadata": {},
   "source": [
    "## Generator architecture\n",
    "<img src=\"./imgs/networkG.png\" width=\"800\">\n",
    "\n"
   ]
  },
  {
   "cell_type": "code",
   "execution_count": 29,
   "metadata": {},
   "outputs": [],
   "source": [
    "class Generator(nn.Module):\n",
    "    def __init__(self, input_size):\n",
    "        super(Generator, self).__init__()\n",
    "        self.fc = nn.Linear(input_size, 4*4*128)\n",
    "        self.deconv1 = nn.Sequential(nn.ConvTranspose2d(128, 64, 3, stride = 2, padding = 1),\n",
    "                                     nn.BatchNorm2d(64),\n",
    "                                     nn.ReLU())\n",
    "        self.deconv2 = nn.Sequential(nn.ConvTranspose2d(64, 32, 4, stride = 2, padding = 1),\n",
    "                                     nn.BatchNorm2d(32),\n",
    "                                     nn.ReLU())\n",
    "        self.deconv3 = nn.Sequential(nn.ConvTranspose2d(32, 1, 4, stride = 2, padding = 1),\n",
    "                                     nn.Tanh())\n",
    "                       \n",
    "    def forward(self, x):\n",
    "        x = self.fc(x)\n",
    "        x = x.view(x.shape[0], 128, 4, 4)\n",
    "        x = self.deconv1(x)\n",
    "        x = self.deconv2(x)\n",
    "        x = self.deconv3(x)\n",
    "        return x\n",
    "    \n",
    "'''\n",
    "Bring the Generator output from [-1, +1] -> [0, 1]\n",
    "'''\n",
    "def out2img(x):\n",
    "    return (x + 1.0)/2.0\n",
    "\n",
    "'''\n",
    "Preprocess the real image to input to the discriminator [-1, +1]\n",
    "'''\n",
    "def img2inp(x):\n",
    "    return (x - 0.5)*2\n"
   ]
  },
  {
   "cell_type": "markdown",
   "metadata": {},
   "source": [
    "## Generate a sample image\n"
   ]
  },
  {
   "cell_type": "code",
   "execution_count": 30,
   "metadata": {},
   "outputs": [
    {
     "name": "stdout",
     "output_type": "stream",
     "text": [
      "Image size: 28x28\n"
     ]
    },
    {
     "data": {
      "image/png": "[encoded data removed]",
      "text/plain": [
       "<Figure size 432x288 with 1 Axes>"
      ]
     },
     "metadata": {
      "needs_background": "light"
     },
     "output_type": "display_data"
    }
   ],
   "source": [
    "z_size = 100 # Size of the random input vector\n",
    "G = Generator(z_size)\n",
    "\n",
    "# Generate a random vector and pass it through the generator.\n",
    "z = torch.randn(1, z_size)\n",
    "g_im = G(z)\n",
    "\n",
    "# Display.\n",
    "disp_img = out2img(g_im.detach().numpy().squeeze())\n",
    "print(\"Image size: {}x{}\".format(disp_img.shape[0], disp_img.shape[1]))\n",
    "plt.axis('off')\n",
    "plt.imshow(disp_img, cmap='gray')\n",
    "plt.show()"
   ]
  },
  {
   "cell_type": "markdown",
   "metadata": {},
   "source": [
    "# Step 3: Define a Descriminator (D)"
   ]
  },
  {
   "cell_type": "markdown",
   "metadata": {},
   "source": [
    "## Descriminator architecture"
   ]
  },
  {
   "cell_type": "markdown",
   "metadata": {},
   "source": [
    "<img src=\"./imgs/networkD.png\" width=\"900\">"
   ]
  },
  {
   "cell_type": "code",
   "execution_count": 31,
   "metadata": {},
   "outputs": [],
   "source": [
    "class Discriminator(nn.Module):\n",
    "    def __init__(self):\n",
    "        super(Discriminator, self).__init__()\n",
    "        self.conv1 = nn.Sequential(nn.Conv2d(1, 32, 4, stride = 2, padding=1),\n",
    "                                   nn.LeakyReLU(0.2))\n",
    "        self.conv2 = nn.Sequential(nn.Conv2d(32, 64, 4, stride = 2, padding=1),\n",
    "                                   nn.BatchNorm2d(64),\n",
    "                                   nn.LeakyReLU(0.2))\n",
    "        self.conv3 = nn.Sequential(nn.Conv2d(64, 128, 3, stride = 2, padding=1),\n",
    "                                   nn.BatchNorm2d(128),\n",
    "                                   nn.LeakyReLU(0.2))\n",
    "        self.fc = nn.Linear(128*4*4, 1)\n",
    "    \n",
    "    def forward(self, x):\n",
    "        x = self.conv1(x)\n",
    "        x = self.conv2(x)\n",
    "        x = self.conv3(x)\n",
    "        x = x.view(x.shape[0], -1)\n",
    "        x = self.fc(x)\n",
    "        return x\n"
   ]
  },
  {
   "cell_type": "markdown",
   "metadata": {},
   "source": [
    "# Step 4: Training"
   ]
  },
  {
   "cell_type": "code",
   "execution_count": 32,
   "metadata": {},
   "outputs": [
    {
     "name": "stdout",
     "output_type": "stream",
     "text": [
      "Using the GPU.\n"
     ]
    }
   ],
   "source": [
    "# Check for CUDA\n",
    "use_cuda = False\n",
    "if torch.cuda.is_available(): \n",
    "    use_cuda = True\n",
    "    print(\"Using the GPU.\")\n",
    "else:\n",
    "    print(\"Cuda is not availabe, using CPU.\")"
   ]
  },
  {
   "cell_type": "markdown",
   "metadata": {},
   "source": [
    "## Define losses"
   ]
  },
  {
   "cell_type": "code",
   "execution_count": 42,
   "metadata": {},
   "outputs": [],
   "source": [
    "def real_loss(pred):\n",
    "    criterion = nn.BCEWithLogitsLoss()\n",
    "    expected_output = torch.ones(pred.shape[0], 1)\n",
    "    if use_cuda:\n",
    "        expected_output = expected_output.cuda()\n",
    "    return criterion(pred, expected_output)\n",
    "\n",
    "def fake_loss(pred):\n",
    "    criterion = nn.BCEWithLogitsLoss()\n",
    "    expected_output = torch.zeros(pred.shape[0], 1)\n",
    "    if use_cuda:\n",
    "        expected_output = expected_output.cuda()\n",
    "    return criterion(pred, expected_output)"
   ]
  },
  {
   "cell_type": "markdown",
   "metadata": {},
   "source": [
    "## Training loop"
   ]
  },
  {
   "cell_type": "code",
   "execution_count": 43,
   "metadata": {},
   "outputs": [],
   "source": [
    "# concatenate num_imgs x h x w tensor into a single image.\n",
    "def concat_imgs(np_imgs): \n",
    "    num_imgs = np_imgs.shape[0]\n",
    "    h = np_imgs.shape[1]\n",
    "    w = np_imgs.shape[2]\n",
    "    out = np.zeros((h, num_imgs*w))\n",
    "    for i in range(num_imgs):\n",
    "        out[:, i*w:(i+1)*w] = np_imgs[i,:,:]\n",
    "    return out        \n",
    "\n",
    "\n",
    "def train_GAN(G, D, optimizer_g, optimizer_d, input_size, batch_size = 32, num_epochs = 30):\n",
    "    sample_size = 10\n",
    "    z_fixed = torch.randn(sample_size, input_size)\n",
    "    if use_cuda:\n",
    "        z_fixed = z_fixed.cuda()\n",
    "        \n",
    "    # GET THE DATA\n",
    "    mnist_trainset = datasets.MNIST(root='./data', train=True, download=True, transform=transforms.ToTensor())\n",
    "    data_loader = torch.utils.data.DataLoader(mnist_trainset, batch_size = batch_size, shuffle= True)\n",
    "    \n",
    "    for e in range(num_epochs):\n",
    "        d_losses = 0.0\n",
    "        g_losses = 0.0        \n",
    "        # Iterate over the dataset.\n",
    "        for ii, (real_imgs, _) in enumerate(data_loader):\n",
    "            # Bring the input image pixels between -1 and 1\n",
    "            real_imgs = img2inp(real_imgs)   \n",
    "            if use_cuda:\n",
    "                real_imgs = real_imgs.cuda()\n",
    "                \n",
    "            # ======== TRAIN DESCRIMNATOR ===============\n",
    "            optimizer_d.zero_grad()\n",
    "            \n",
    "            pred = D(real_imgs)\n",
    "            # D should learns to predict real image as real, i.e., label 1\n",
    "            real_loss_d = real_loss(pred)\n",
    "            \n",
    "            # Create fake examples.\n",
    "            z = torch.randn(batch_size, input_size)\n",
    "            if use_cuda:\n",
    "                z = z.cuda()\n",
    "            fake_imgs = G(z)    \n",
    "            pred = D(fake_imgs.detach())\n",
    "            # D should learns to predict the generated images as fake, i.e., label 0\n",
    "            fake_loss_d = fake_loss(pred) \n",
    "            \n",
    "            # Descriminator opt takes a step.\n",
    "            total_loss_d = real_loss_d + fake_loss_d\n",
    "            total_loss_d.backward()\n",
    "            optimizer_d.step()\n",
    "            \n",
    "            # ============= TRAIN GENERATOR =============\n",
    "            optimizer_g.zero_grad()\n",
    "            # Create more fake examples.\n",
    "            z = torch.randn(batch_size, input_size) \n",
    "            if use_cuda:\n",
    "                z = z.cuda()\n",
    "            fake_imgs = G(z)\n",
    "            pred = D(fake_imgs)     \n",
    "            # G tries to learn such that generated images pass as real.\n",
    "            loss_g = real_loss(pred) \n",
    "            loss_g.backward()\n",
    "            optimizer_g.step()\n",
    "            \n",
    "            # Save losses\n",
    "            d_losses += total_loss_d.detach().cpu().item()\n",
    "            g_losses += loss_g.detach().cpu().item()\n",
    "            \n",
    "            sys.stdout.write(\"\\r Processing: {}/{}...\".format(ii+1, len(data_loader)))\n",
    "            sys.stdout.flush()\n",
    "        \n",
    "        d_loss_epoch = d_losses/len(data_loader)\n",
    "        g_loss_epoch = g_losses/len(data_loader)\n",
    "        print(\"Epoch: {}, D loss: {}, G loss: {}\".format(e, d_loss_epoch, g_loss_epoch))\n",
    "        \n",
    "        # Save a few images as example.\n",
    "        G.eval()\n",
    "        out_imgs = G(z_fixed)\n",
    "        out_imgs = out2img(out_imgs) # Convert to right size.\n",
    "        disp_imgs = np.squeeze(out_imgs.detach().cpu().numpy())\n",
    "        combined_img = concat_imgs(disp_imgs)*255\n",
    "        combined_img = combined_img.astype(np.uint8)\n",
    "        img_to_save = Image.fromarray(combined_img)\n",
    "        img_to_save.save(\"./data/sample_output{}.png\".format(e))\n",
    "        \n",
    "        # Save the checkpoint\n",
    "        checkpoint = {\n",
    "            'epoch': e + 1,\n",
    "            'state_dict': G.state_dict()         \n",
    "        }\n",
    "        torch.save(checkpoint, 'checkpoint.pth')\n",
    "        G.train()\n",
    "    print(\"Done training!\")"
   ]
  },
  {
   "cell_type": "markdown",
   "metadata": {},
   "source": [
    "# Start training!"
   ]
  },
  {
   "cell_type": "code",
   "execution_count": 44,
   "metadata": {},
   "outputs": [
    {
     "name": "stdout",
     "output_type": "stream",
     "text": [
      "Loading trained model from file...\n"
     ]
    }
   ],
   "source": [
    "import os\n",
    "\n",
    "G = Generator(z_size)\n",
    "D = Discriminator()\n",
    "if use_cuda:\n",
    "    G = G.cuda()\n",
    "    D = D.cuda()\n",
    "\n",
    "if os.path.exists('checkpoint.pth'):\n",
    "    print(\"Loading trained model from file...\")\n",
    "    G.load_state_dict(torch.load('checkpoint.pth')[\"state_dict\"])\n",
    "else:\n",
    "    print(\"Training...\")\n",
    "    # Train your own model.\n",
    "    lr = 0.0001\n",
    "    beta1 = 0.5\n",
    "    beta2 = 0.999\n",
    "\n",
    "    optimg = torch.optim.Adam(G.parameters(), lr=lr, betas=(beta1, beta2))\n",
    "    optimd = torch.optim.Adam(D.parameters(), lr=lr, betas=(beta1, beta2))\n",
    "    train_GAN(G, D, optimg, optimd, z_size)"
   ]
  },
  {
   "cell_type": "markdown",
   "metadata": {},
   "source": [
    "## Training progress"
   ]
  },
  {
   "cell_type": "markdown",
   "metadata": {},
   "source": [
    "#### Sample image:  epoch 01\n",
    "<img src=\"./imgs/sample_output0.png\" width=\"800\">\n",
    "\n",
    "#### Sample images: epoch 30\n",
    "<img src=\"./imgs/sample_output29.png\" width=\"800\">"
   ]
  },
  {
   "cell_type": "markdown",
   "metadata": {},
   "source": [
    "# Step 4: Generate new images"
   ]
  },
  {
   "cell_type": "code",
   "execution_count": 58,
   "metadata": {
    "scrolled": true
   },
   "outputs": [
    {
     "data": {
      "image/png": "[encoded data removed]",
      "text/plain": [
       "<Figure size 144x144 with 1 Axes>"
      ]
     },
     "metadata": {
      "needs_background": "light"
     },
     "output_type": "display_data"
    }
   ],
   "source": [
    "G.eval()\n",
    "z = torch.randn(1, z_size)\n",
    "if use_cuda:\n",
    "    z = z.cuda()\n",
    "G_out = G(z)\n",
    "img = np.squeeze(G_out.detach().cpu().numpy())\n",
    "\n",
    "plt.figure(figsize=(2, 2))  \n",
    "plt.axis('off')\n",
    "plt.imshow(img, cmap='gray')\n",
    "plt.show()"
   ]
  },
  {
   "cell_type": "markdown",
   "metadata": {},
   "source": [
    "# References\n",
    "1. Wonderful animations of convolution arithmatic: https://github.com/vdumoulin/conv_arithmetic\n",
    "2. A more detailed GAN example from torch developes: https://github.com/pytorch/examples/tree/master/dcgan\n",
    "3. How to train a GAN: tips and tricks: https://github.com/soumith/ganhacks"
   ]
  }
 ],
 "metadata": {
  "kernelspec": {
   "display_name": "Python 3",
   "language": "python",
   "name": "python3"
  },
  "language_info": {
   "codemirror_mode": {
    "name": "ipython",
    "version": 3
   },
   "file_extension": ".py",
   "mimetype": "text/x-python",
   "name": "python",
   "nbconvert_exporter": "python",
   "pygments_lexer": "ipython3",
   "version": "3.7.1"
  }
 },
 "nbformat": 4,
 "nbformat_minor": 2
}
